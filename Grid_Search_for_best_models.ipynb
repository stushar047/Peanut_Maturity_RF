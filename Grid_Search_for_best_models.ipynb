{
 "cells": [
  {
   "cell_type": "code",
   "execution_count": 6,
   "id": "8747e019",
   "metadata": {},
   "outputs": [],
   "source": [
    "#import all libraries\n",
    "from sklearn.ensemble import RandomForestClassifier\n",
    "from all_functions import *\n",
    "from joblib import dump, load\n",
    "from sklearn.decomposition import PCA\n",
    "from sklearn.pipeline import make_pipeline\n",
    "from sklearn.preprocessing import StandardScaler\n",
    "from sklearn.model_selection import GridSearchCV,cross_val_score"
   ]
  },
  {
   "cell_type": "code",
   "execution_count": 2,
   "id": "c88fdc32",
   "metadata": {},
   "outputs": [],
   "source": [
    "feature_selection='ANOVA'\n",
    "Training='2017'\n",
    "Features=9\n",
    "Index_2016,Color_index_2016,All_columns,Maturity_2016,Final_Data_2016,Final_Data_Selected_2016=datacreate_2016(file='C:/Users/tusha/Downloads/Peanut_Maturity.csv'\\\n",
    "                                                                  ,path1='C:/All/Peanut_Maturity_Classification',W_select=199)\n",
    "Index_2017,Color_index_2017,Maturity_2017,Final_Data_2017,Final_Data_Selected_2017=datacreate_2017(file='C:/Users/tusha/Downloads/Peanut_Maturity_.csv'\\\n",
    "                                                                  ,path2='C:/All/Peanut_Maturity_Classification_2017',W_select=199)\n",
    "\n",
    "if Training=='2016':\n",
    "    X_train_data,y_train_data,Train_Color_Index,Train_Index=Final_Data_Selected_2016,Maturity_2016,Color_index_2016,Index_2016\n",
    "    X_test_data,y_test_data,Test_Color_Index,Test_Index=Final_Data_Selected_2017,Maturity_2017,Color_index_2017,Index_2017\n",
    "elif Training=='2017':\n",
    "    X_train_data,y_train_data,Train_Color_Index,Train_Index=Final_Data_Selected_2017,Maturity_2017,Color_index_2017,Index_2017\n",
    "    X_test_data,y_test_data,Test_Color_Index,Test_Index=Final_Data_Selected_2016,Maturity_2016,Color_index_2016,Index_2016\n",
    "\n",
    "\n",
    "if feature_selection=='Strong_Feature':\n",
    "    X_train,X_test,y_train,y_test=Strong_feature_train_test_dataset_create(Features=Features,X_train=X_train_data,\\\n",
    "                                                        y_train=y_train_data,X_test=X_test_data,\\\n",
    "                                                        y_test=y_test_data)\n",
    "elif feature_selection=='ANOVA':\n",
    "    X_train,X_test,y_train,y_test=anova_train_test_dataset_create(Features=Features,X_train=X_train_data,\\\n",
    "                                                        y_train=y_train_data,X_test=X_test_data,\\\n",
    "                                                        y_test=y_test_data)    \n",
    "elif feature_selection=='Max':\n",
    "    X_train,X_test,y_train,y_test=Max_feature_train_test_dataset_create(Features=Features,X_train=X_train_data,\\\n",
    "                                                        y_train=y_train_data,X_test=X_test_data,\\\n",
    "                                                        y_test=y_test_data)  \n",
    "\n",
    "elif feature_selection=='None':\n",
    "    X_train,X_test,y_train,y_test=X_train_data,X_test_data,y_train_data,y_test_data      "
   ]
  },
  {
   "cell_type": "code",
   "execution_count": 7,
   "id": "1bae4c3c",
   "metadata": {},
   "outputs": [],
   "source": [
    "#Set the model Random Forest classifier\n",
    "\"\"\"\n",
    "Make a pipline of preprocessing, a grid of parameters for the classifier, fit the model, evaluate the model (Writing into a text file) \n",
    "\"\"\"\n",
    "file = open(\"Result_RF_v2.txt\", \"w\")\n",
    "pipe_rf = make_pipeline(StandardScaler(),PCA(n_components=10),RandomForestClassifier());\n",
    "max_depth = np.arange(8,20,2)\n",
    "np.append(max_depth,None)\n",
    "parameter_grid_rf = [{'randomforestclassifier__n_estimators': np.arange(10,20,2),\n",
    "               'randomforestclassifier__max_features': ['auto', 'sqrt'],\n",
    "               'randomforestclassifier__max_depth': max_depth,\n",
    "               'randomforestclassifier__min_samples_split': [2, 5, 10],\n",
    "               'randomforestclassifier__min_samples_leaf': [4,5,6,7,9],\n",
    "               'randomforestclassifier__bootstrap': [True, False],\n",
    "               'randomforestclassifier__random_state': [1]}]\n",
    "grf = GridSearchCV(estimator=pipe_rf,param_grid=parameter_grid_rf, scoring='accuracy',cv=10,refit=True,n_jobs=-1)\n",
    "grf = grf.fit(X_train, y_train)"
   ]
  },
  {
   "cell_type": "code",
   "execution_count": 8,
   "id": "d478d9a2",
   "metadata": {},
   "outputs": [],
   "source": [
    "Score_train=grf.score(X_train, y_train)\n",
    "Score_test=grf.score(X_test, y_test)"
   ]
  }
 ],
 "metadata": {
  "kernelspec": {
   "display_name": "Python 3",
   "language": "python",
   "name": "python3"
  },
  "language_info": {
   "codemirror_mode": {
    "name": "ipython",
    "version": 3
   },
   "file_extension": ".py",
   "mimetype": "text/x-python",
   "name": "python",
   "nbconvert_exporter": "python",
   "pygments_lexer": "ipython3",
   "version": "3.8.5"
  }
 },
 "nbformat": 4,
 "nbformat_minor": 5
}
